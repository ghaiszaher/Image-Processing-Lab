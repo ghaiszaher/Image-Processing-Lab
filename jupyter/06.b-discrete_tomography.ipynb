{
 "cells": [
  {
   "cell_type": "markdown",
   "metadata": {},
   "source": [
    "# Discrete Tomography: Reconstruct Image from Horizontal and Vertical projection"
   ]
  },
  {
   "cell_type": "markdown",
   "metadata": {},
   "source": [
    "### imports"
   ]
  },
  {
   "cell_type": "code",
   "execution_count": 1,
   "metadata": {},
   "outputs": [],
   "source": [
    "import numpy as np\n",
    "import cv2\n",
    "from matplotlib import pyplot as plt\n",
    "import itertools\n",
    "from IPython.display import clear_output"
   ]
  },
  {
   "cell_type": "markdown",
   "metadata": {},
   "source": [
    "### functions"
   ]
  },
  {
   "cell_type": "code",
   "execution_count": 2,
   "metadata": {},
   "outputs": [],
   "source": [
    "#Source: https://stackoverflow.com/a/42314798\n",
    "\n",
    "def plotimage(img, title=None, figsize=None):\n",
    "    h = img.shape[0]\n",
    "    w = img.shape[1]\n",
    "    dpi = 80\n",
    "    if figsize is None:\n",
    "        figsize = w / float(dpi), h / float(dpi)\n",
    "    fig = plt.figure(figsize=figsize)\n",
    "    ax = fig.add_axes([0, 0, 1, 1])    \n",
    "#     ax.axis('off')\n",
    "    ax.imshow(img, cmap='gray')\n",
    "    if title:\n",
    "        plt.title(title)\n",
    "    plt.show()"
   ]
  },
  {
   "cell_type": "markdown",
   "metadata": {},
   "source": [
    "### read image"
   ]
  },
  {
   "cell_type": "code",
   "execution_count": 3,
   "metadata": {
    "scrolled": false
   },
   "outputs": [
    {
     "data": {
      "image/png": "[encoded data removed]",
      "text/plain": [
       "<Figure size 216x216 with 1 Axes>"
      ]
     },
     "metadata": {
      "needs_background": "light"
     },
     "output_type": "display_data"
    }
   ],
   "source": [
    "# image_path = '../images/question.png'\n",
    "image_path = '../images/finverse.png'\n",
    "\n",
    "img = cv2.imread(image_path)\n",
    "img = cv2.cvtColor(img, cv2.COLOR_RGB2BGR)\n",
    "gray = cv2.cvtColor(img, cv2.COLOR_BGR2GRAY)\n",
    "threshold = 254\n",
    "gray[gray<threshold] = 0\n",
    "gray[gray>=threshold] = 1\n",
    "bw = 1-gray\n",
    "plotimage(bw, 'Grayscale Image', (3,3))"
   ]
  },
  {
   "cell_type": "code",
   "execution_count": 4,
   "metadata": {},
   "outputs": [
    {
     "data": {
      "text/plain": [
       "array([[1, 1, 1, 1, 1, 1, 1, 1, 1, 1, 1, 1],\n",
       "       [1, 1, 1, 1, 1, 1, 1, 1, 1, 1, 1, 1],\n",
       "       [0, 0, 0, 0, 0, 0, 0, 0, 0, 0, 1, 1],\n",
       "       [0, 0, 0, 0, 0, 0, 0, 0, 0, 0, 1, 1],\n",
       "       [0, 0, 0, 0, 0, 0, 0, 0, 0, 0, 1, 1],\n",
       "       [0, 0, 0, 0, 0, 0, 0, 0, 0, 0, 1, 1],\n",
       "       [0, 0, 0, 0, 0, 0, 1, 1, 1, 1, 1, 1],\n",
       "       [0, 0, 0, 0, 0, 0, 1, 1, 1, 1, 1, 1],\n",
       "       [0, 0, 0, 0, 0, 0, 0, 0, 0, 0, 1, 1],\n",
       "       [0, 0, 0, 0, 0, 0, 0, 0, 0, 0, 1, 1],\n",
       "       [0, 0, 0, 0, 0, 0, 0, 0, 0, 0, 1, 1],\n",
       "       [0, 0, 0, 0, 0, 0, 0, 0, 0, 0, 1, 1],\n",
       "       [0, 0, 0, 0, 0, 0, 0, 0, 0, 0, 1, 1],\n",
       "       [0, 0, 0, 0, 0, 0, 0, 0, 0, 0, 1, 1],\n",
       "       [0, 0, 0, 0, 0, 0, 0, 0, 0, 0, 1, 1],\n",
       "       [0, 0, 0, 0, 0, 0, 0, 0, 0, 0, 1, 1]], dtype=uint8)"
      ]
     },
     "execution_count": 4,
     "metadata": {},
     "output_type": "execute_result"
    }
   ],
   "source": [
    "bw"
   ]
  },
  {
   "cell_type": "markdown",
   "metadata": {},
   "source": [
    "### Create Horizontal and Vertical Projections"
   ]
  },
  {
   "cell_type": "code",
   "execution_count": 5,
   "metadata": {
    "scrolled": true
   },
   "outputs": [
    {
     "name": "stdout",
     "output_type": "stream",
     "text": [
      "vertical projection:\n",
      " [[12]\n",
      " [12]\n",
      " [ 2]\n",
      " [ 2]\n",
      " [ 2]\n",
      " [ 2]\n",
      " [ 6]\n",
      " [ 6]\n",
      " [ 2]\n",
      " [ 2]\n",
      " [ 2]\n",
      " [ 2]\n",
      " [ 2]\n",
      " [ 2]\n",
      " [ 2]\n",
      " [ 2]]\n",
      "horizontal projection:\n",
      " [ 2  2  2  2  2  2  4  4  4  4 16 16]\n"
     ]
    }
   ],
   "source": [
    "vert_original = np.sum(bw, axis=1)\n",
    "print(\"vertical projection:\\n\", np.atleast_2d(vert_original).T)\n",
    "\n",
    "hor_original = np.sum(bw, axis=0)\n",
    "print(\"horizontal projection:\\n\",hor_original)"
   ]
  },
  {
   "cell_type": "markdown",
   "metadata": {},
   "source": [
    "### Reconstruct image"
   ]
  },
  {
   "cell_type": "code",
   "execution_count": 6,
   "metadata": {},
   "outputs": [],
   "source": [
    "def available(i,j):\n",
    "    return vert[i] and hor[j] #if there is a place (non-zero) in both vert and hor for this cell, return true"
   ]
  },
  {
   "cell_type": "code",
   "execution_count": 7,
   "metadata": {},
   "outputs": [],
   "source": [
    "def validate():\n",
    "    return not hor.any() and not vert.any() #returns true if both hor and vert have all zeros, false otherwise"
   ]
  },
  {
   "cell_type": "code",
   "execution_count": 8,
   "metadata": {},
   "outputs": [],
   "source": [
    "def debug():\n",
    "    if not enable_debug:\n",
    "        return\n",
    "    \n",
    "    clear_output(wait=True)\n",
    "    plotimage(res, 'debug', (2,2))\n",
    "    print(k, i,j)\n",
    "    print(\"hor: {}\", hor)\n",
    "    print(\"vert: {}\", vert)"
   ]
  },
  {
   "cell_type": "code",
   "execution_count": 9,
   "metadata": {},
   "outputs": [],
   "source": [
    "def backtrack(k):\n",
    "    if k >= size:\n",
    "        return validate()\n",
    "    \n",
    "    i = k//cols\n",
    "    j = k%cols\n",
    "    \n",
    "    if available(i,j): ##There is a place in this row and column\n",
    "        #try to place a 1 here\n",
    "        res[i,j]=1\n",
    "        vert[i]-=1\n",
    "        hor[j]-=1\n",
    "        \n",
    "        ###### DEBUGGING RESULTS #######\n",
    "        debug()\n",
    "        ################################\n",
    "\n",
    "        if backtrack(k+1):\n",
    "            return True #placing a one worked, return True\n",
    "        \n",
    "        #placing a one didn't work, revert changes\n",
    "        res[i,j]=0\n",
    "        vert[i]+=1\n",
    "        hor[j]+=1\n",
    "        \n",
    "    #whether the place isn't available, or placing one didn't work, try to skip this cell (keep the zero) and check the next one\n",
    "    return backtrack(k+1)"
   ]
  },
  {
   "cell_type": "markdown",
   "metadata": {},
   "source": [
    "### Call Backtrack algorithm with no Heuristics"
   ]
  },
  {
   "cell_type": "code",
   "execution_count": null,
   "metadata": {},
   "outputs": [],
   "source": [
    "%%time\n",
    "vert = vert_original.copy()\n",
    "hor = hor_original.copy()\n",
    "\n",
    "rows, cols = bw.shape[0], bw.shape[1]\n",
    "\n",
    "res = np.zeros((rows,cols)) #initialize result image with zeros\n",
    "size = rows*cols\n",
    "\n",
    "enable_debug = False\n",
    "\n",
    "b=backtrack(0)\n",
    "if b:\n",
    "    plotimage(res, 'Result', (3,3))\n",
    "else:\n",
    "    print(\"Not found!\")"
   ]
  },
  {
   "cell_type": "markdown",
   "metadata": {},
   "source": [
    "### Use Sorting Heuristic"
   ]
  },
  {
   "cell_type": "code",
   "execution_count": 12,
   "metadata": {},
   "outputs": [
    {
     "data": {
      "image/png": "[encoded data removed]",
      "text/plain": [
       "<Figure size 144x144 with 1 Axes>"
      ]
     },
     "metadata": {
      "needs_background": "light"
     },
     "output_type": "display_data"
    },
    {
     "name": "stdout",
     "output_type": "stream",
     "text": [
      "12 2 0\n",
      "hor: {} [0 0 0 0 0 0 0 0 0 0 0 0]\n",
      "vert: {} [0 0 0 0 0 0 0 0 0 0 0 0 0 0 0 0]\n"
     ]
    },
    {
     "data": {
      "image/png": "[encoded data removed]",
      "text/plain": [
       "<Figure size 216x216 with 1 Axes>"
      ]
     },
     "metadata": {
      "needs_background": "light"
     },
     "output_type": "display_data"
    },
    {
     "name": "stdout",
     "output_type": "stream",
     "text": [
      "Wall time: 7.52 s\n"
     ]
    }
   ],
   "source": [
    "%%time\n",
    "vert = vert_original.copy()\n",
    "hor = hor_original.copy()\n",
    "vert_arg = vert.argsort()[::-1] # store original order before sorting\n",
    "hor_arg = hor.argsort()[::-1]   # store original order before sorting\n",
    "\n",
    "vert[::-1].sort()\n",
    "hor[::-1].sort()\n",
    "\n",
    "rows, cols = bw.shape[0], bw.shape[1]\n",
    "\n",
    "res = np.zeros((rows,cols))\n",
    "size = rows*cols\n",
    "\n",
    "enable_debug = True\n",
    "\n",
    "b=backtrack(0)\n",
    "if b:\n",
    "    #reverse sort:\n",
    "    res2 = res.copy()\n",
    "    k=0\n",
    "    for i in vert_arg:\n",
    "        res2[i]=res[k]\n",
    "        k+=1\n",
    "    \n",
    "    res3 = res2.copy()\n",
    "    k=0\n",
    "    for j in hor_arg:\n",
    "        res3[:,j]=res2[:,k]\n",
    "        k+=1\n",
    "    \n",
    "    plotimage(res3, 'Result', (3,3))\n",
    "else:\n",
    "    print(\"Not found!\")"
   ]
  }
 ],
 "metadata": {
  "kernelspec": {
   "display_name": "Python 3",
   "language": "python",
   "name": "python3"
  },
  "language_info": {
   "codemirror_mode": {
    "name": "ipython",
    "version": 3
   },
   "file_extension": ".py",
   "mimetype": "text/x-python",
   "name": "python",
   "nbconvert_exporter": "python",
   "pygments_lexer": "ipython3",
   "version": "3.7.1"
  }
 },
 "nbformat": 4,
 "nbformat_minor": 2
}
